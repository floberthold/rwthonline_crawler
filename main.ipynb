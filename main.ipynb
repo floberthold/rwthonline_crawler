{
 "cells": [
  {
   "cell_type": "markdown",
   "metadata": {},
   "source": [
    "# Main"
   ]
  },
  {
   "cell_type": "code",
   "execution_count": null,
   "metadata": {},
   "outputs": [],
   "source": [
    "import os.path\n",
    "import pickle\n",
    "import re\n",
    "import importlib\n",
    "# importlib.reload(visualization) # this reloads changes to external scripts\n",
    "\n",
    "url_adress = \"https://online.rwth-aachen.de/RWTHonline/ee/ui/ca2/app/desktop/#/slc.cm.reg/student/modules?$ctx=design=ca;lang=de&orgId=1\"\n",
    "\n",
    "filename = 'extracted_data.pickle'\n",
    "# if os.path.isfile(filename):\n",
    "#     # continue previous log file\n",
    "#     with open(filename, 'rb') as handle:\n",
    "#         # this contains all extracted data\n",
    "#         curr_data_dict = pickle.load(handle)\n",
    "# else:\n",
    "#     print(\"File does not exist\")\n",
    "\n",
    "# TODO for now always create a new log file\n",
    "# this contains all extracted data\n",
    "curr_data_dict = {}"
   ]
  },
  {
   "cell_type": "code",
   "execution_count": null,
   "metadata": {},
   "outputs": [],
   "source": [
    "from selenium import webdriver\n",
    "from webdriver_manager.chrome import ChromeDriverManager\n",
    "from selenium.webdriver.chrome.options import Options\n",
    "\n",
    "from selenium.webdriver.support.ui import WebDriverWait\n",
    "from selenium.webdriver.common.by import By\n",
    "from selenium.webdriver.support import expected_conditions as EC\n",
    "from selenium.webdriver.support.ui import Select\n",
    "\n",
    "# Initiate the browser\n",
    "#browser = webdriver.Chrome(ChromeDriverManager().install())\n",
    "\n",
    "chrome_options = Options()\n",
    "#chrome_options.add_argument(\"--incognito\")\n",
    "#chrome_options.add_argument(\"--window-size=1920x1080\")\n",
    "\n",
    "driver = webdriver.Chrome(chrome_options=chrome_options, executable_path=\"./chromedriver.exe\")"
   ]
  },
  {
   "cell_type": "code",
   "execution_count": null,
   "metadata": {},
   "outputs": [],
   "source": [
    "from auction_lib.functions import get_auction_id, get_current_price, save_data_into_dict, \\\n",
    "                                  get_time_series, get_offer_metrics, get_auction_detail_id\n",
    "\n",
    "def open_main_auction_site(url_adress):\n",
    "    # Open the Website\n",
    "    driver.get(url_adress)\n",
    "\n",
    "    # # TODO Click to show 50 elements on the website\n",
    "    # #driver.find_element_by_id('resultListLimit').click()\n",
    "    # select = Select(driver.find_element_by_id('resultListLimit'))\n",
    "    # # select by visible text\n",
    "    # select.select_by_visible_text('50')\n",
    "    # # select by value\n",
    "    # select.select_by_value('50')\n",
    "\n",
    "    # # Click to reload with 50 elss\n",
    "    # driver.find_els_by_id('buttons').click()"
   ]
  },
  {
   "cell_type": "markdown",
   "metadata": {},
   "source": [
    "Opens Chrome with the RWTHonline course list website (no account needed)"
   ]
  },
  {
   "cell_type": "code",
   "execution_count": null,
   "metadata": {},
   "outputs": [],
   "source": [
    "from datetime import datetime\n",
    "import time\n",
    "\n",
    "now = datetime.now()\n",
    "extraction_time = now.strftime(\"%Y-%m-%d_%H:%M:%S\")\n",
    "print(\"Current Time =\", extraction_time)\n",
    "\n",
    "# Part 1 ===========================================\n",
    "# Open the Website\n",
    "open_main_auction_site(url_adress)\n",
    "time.sleep(0.1)"
   ]
  },
  {
   "cell_type": "markdown",
   "metadata": {},
   "source": [
    "First test of extracting a text field from the website"
   ]
  },
  {
   "cell_type": "code",
   "execution_count": null,
   "metadata": {},
   "outputs": [],
   "source": [
    "# Part 2 ===========================================\n",
    "##Find elements with Selenium, by css\n",
    "# use the chrome plugin Selector Gadget: https://chrome.google.com/webstore/detail/selectorgadget/mhjhnkcfbdhnjickkkdbjoemdmbfginb\n",
    "element_css_selector = \"ca-maintenance-banner-header-slot\"\n",
    "els = driver.find_element(By.CLASS_NAME, element_css_selector)\n",
    "\n",
    "els"
   ]
  },
  {
   "cell_type": "code",
   "execution_count": null,
   "metadata": {},
   "outputs": [],
   "source": [
    "print(els.text)\n",
    "print(els.tag_name)\n",
    "print(els.parent)\n",
    "print(els.location)\n",
    "print(els.size)"
   ]
  },
  {
   "cell_type": "code",
   "execution_count": null,
   "metadata": {},
   "outputs": [],
   "source": [
    "driver.find_element(By.CLASS_NAME, \"ca-maintenance-banner-header-slot\").text"
   ]
  },
  {
   "cell_type": "code",
   "execution_count": null,
   "metadata": {},
   "outputs": [],
   "source": [
    "# Part 3 ===========================================\n",
    "# get the current semester of the course catalogue\n",
    "class_name = \"//*[contains(concat( \\\" \\\", @class, \\\" \\\" ), concat( \\\" \\\", \\\"ng-star-inserted\\\", \\\" \\\" ))]\"\n",
    "els = driver.find_element(By.XPATH, class_name)\n",
    "\n",
    "splits = re.split(\"\\\\n\", els.text)\n",
    "print('Number of XPath hits', len(splits))\n",
    "#print(splits)\n",
    "\n",
    "current_semester = splits[6]\n",
    "current_semester"
   ]
  },
  {
   "cell_type": "code",
   "execution_count": null,
   "metadata": {},
   "outputs": [],
   "source": [
    "# Part 4 ===========================================\n",
    "# get links to all courses of the current course catalogue page\n",
    "# https://online.rwth-aachen.de/RWTHonline/ee/ui/ca2/app/desktop/#/slc.cm.reg/student/modules/detail/1105283/257\n",
    "# https://online.rwth-aachen.de/RWTHonline/ee/ui/ca2/app/desktop/#/slc.cm.reg/student/modules/detail/1105274/257\n",
    "\n",
    "elems = driver.find_elements_by_xpath(\"//a[@href]\")\n",
    "substring = \"https://online.rwth-aachen.de/RWTHonline/ee/ui/ca2/app/desktop/#/slc.cm.reg/student/modules/detail\"\n",
    "\n",
    "link_list = []\n",
    "for elem in elems:\n",
    "    #print(elem)\n",
    "    if str(substring) in str(elem.get_attribute(\"href\")):\n",
    "        #print(elem.get_attribute(\"href\"))\n",
    "        link_list.append(str(elem.get_attribute(\"href\")))\n",
    "    else:\n",
    "        None\n",
    "\n",
    "link_list = list(set(link_list))\n",
    "\n",
    "print(len(link_list))"
   ]
  },
  {
   "cell_type": "code",
   "execution_count": null,
   "metadata": {},
   "outputs": [],
   "source": [
    "link_list"
   ]
  },
  {
   "cell_type": "markdown",
   "metadata": {},
   "source": [
    "# Continue here afterwards\n",
    "\n",
    "ToDos:\n",
    "- get links for each page\n",
    "- open each course link\n",
    "- extract data of each course\n",
    "    - save it in a dict"
   ]
  },
  {
   "cell_type": "code",
   "execution_count": null,
   "metadata": {},
   "outputs": [],
   "source": []
  },
  {
   "cell_type": "code",
   "execution_count": null,
   "metadata": {},
   "outputs": [],
   "source": []
  },
  {
   "cell_type": "code",
   "execution_count": null,
   "metadata": {},
   "outputs": [],
   "source": [
    "for i in range(0,len(els)):\n",
    "    text = els[i].text\n",
    "\n",
    "    # extracted information\n",
    "    curr_id = get_auction_id(text)\n",
    "    curr_price = get_current_price(text)\n",
    "\n",
    "    #print(extraction_time, \":\\t\", curr_id, curr_price)\n",
    "    curr_data_dict = save_data_into_dict(curr_data_dict, curr_id, extraction_time, curr_price)\n",
    "\n",
    "# Part 3 ===========================================\n",
    "# Get detailed information from each course\n",
    "\n",
    "# iterate through all courses on the main page\n",
    "links = driver.find_elements_by_xpath('//*[contains(concat( \" \", @class, \" \" ), concat( \" \", \"mainpageLink\", \" \" ))]')\n",
    "for link in links:\n",
    "    if link.text == \"Details\":\n",
    "        link_href = link.get_attribute('href')\n",
    "        #print(link.text, link.get_attribute('href'))\n",
    "\n",
    "        # open new tab\n",
    "        driver.execute_script(\"window.open('');\")\n",
    "        driver.switch_to.window(driver.window_handles[1])\n",
    "\n",
    "        driver.get(link_href)\n",
    "\n",
    "        # extract detailed metrics from course offer page\n",
    "        element_css_selector = \"#geb_uebersicht\"\n",
    "        el = driver.find_element_by_css_selector(element_css_selector)\n",
    "        text = el.text\n",
    "\n",
    "        highest_bidder, n_o_bids, n_o_clicks, n_o_watchers = get_offer_metrics(text)\n",
    "        details_dict = {}\n",
    "        details_dict[\"highest_bidder\"] = highest_bidder\n",
    "        details_dict[\"n_o_bids\"] = n_o_bids\n",
    "        details_dict[\"n_o_clicks\"] = n_o_clicks\n",
    "        details_dict[\"n_o_watchers\"] = n_o_watchers\n",
    "\n",
    "        curr_detailed_id = get_auction_detail_id(driver)\n",
    "        curr_data_dict[curr_detailed_id][extraction_time][\"details\"] = details_dict\n",
    "\n",
    "        driver.close()\n",
    "        driver.switch_to.window(driver.window_handles[0])\n",
    "    else:\n",
    "        driver.switch_to.window(driver.window_handles[0])\n",
    "\n",
    "# Part 4 ===========================================\n",
    "# get current value of XYZ\n",
    "XYZ_label = \"XYZ\"\n",
    "if XYZ_label not in curr_data_dict: curr_data_dict[XYZ_label] = {}\n",
    "curr_data_dict[\"XYZ\"][extraction_time] = 0\n",
    "\n",
    "\n",
    "# Part 5 ===========================================\n",
    "# close crawler\n",
    "if len(driver.window_handles)>0:\n",
    "    driver.switch_to.window(driver.window_handles[1])\n",
    "    driver.close()\n",
    "    driver.switch_to.window(driver.window_handles[0])"
   ]
  },
  {
   "cell_type": "code",
   "execution_count": null,
   "metadata": {},
   "outputs": [],
   "source": [
    "curr_data_dict"
   ]
  },
  {
   "cell_type": "code",
   "execution_count": null,
   "metadata": {},
   "outputs": [],
   "source": [
    "# to save results, execute this cell\n",
    "with open(filename, 'wb') as handle:\n",
    "    pickle.dump(curr_data_dict, handle, protocol=pickle.HIGHEST_PROTOCOL)"
   ]
  },
  {
   "cell_type": "code",
   "execution_count": null,
   "metadata": {},
   "outputs": [],
   "source": [
    "with open(filename, 'rb') as handle:\n",
    "    b = pickle.load(handle)\n",
    "\n",
    "print(curr_data_dict == b)"
   ]
  },
  {
   "cell_type": "code",
   "execution_count": null,
   "metadata": {},
   "outputs": [],
   "source": []
  }
 ],
 "metadata": {
  "kernelspec": {
   "display_name": "Python 3.10.6 ('rwth_crawler')",
   "language": "python",
   "name": "python3"
  },
  "language_info": {
   "codemirror_mode": {
    "name": "ipython",
    "version": 3
   },
   "file_extension": ".py",
   "mimetype": "text/x-python",
   "name": "python",
   "nbconvert_exporter": "python",
   "pygments_lexer": "ipython3",
   "version": "3.10.6"
  },
  "orig_nbformat": 4,
  "vscode": {
   "interpreter": {
    "hash": "204398e17dabf298c5861faf14a7ab3eb8491127e2552edfe18520a0353be4e6"
   }
  }
 },
 "nbformat": 4,
 "nbformat_minor": 2
}
